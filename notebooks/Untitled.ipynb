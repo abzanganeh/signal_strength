{
 "cells": [
  {
   "cell_type": "code",
   "execution_count": null,
   "id": "4f178fb9-5c38-40cb-b0e7-3d922ea9210a",
   "metadata": {},
   "outputs": [],
   "source": [
    "# notebooks/eda_weather_features.ipynb\n",
    "\n",
    "## 1. Imports\n",
    "import pandas as pd\n",
    "import seaborn as sns\n",
    "import matplotlib.pyplot as plt\n",
    "\n",
    "## 2. Load Engineered Data\n",
    "df = pd.read_csv(\"../data/processed/weather_engineered_20250812_0614.csv\")\n",
    "\n",
    "## 3. Basic Info\n",
    "print(df.info())\n",
    "print(df.describe())\n",
    "\n",
    "## 4. Correlation Heatmap\n",
    "plt.figure(figsize=(12, 8))\n",
    "sns.heatmap(df.corr(numeric_only=True), annot=True, cmap=\"coolwarm\", fmt=\".2f\")\n",
    "plt.title(\"Feature Correlation Heatmap\")\n",
    "plt.show()\n",
    "\n",
    "## 5. Outlier Detection (Boxplots)\n",
    "numeric_cols = df.select_dtypes(include=\"number\").columns\n",
    "for col in numeric_cols:\n",
    "    plt.figure(figsize=(6, 4))\n",
    "    sns.boxplot(x=df[col])\n",
    "    plt.title(f\"Outlier Check: {col}\")\n",
    "    plt.show()\n",
    "\n",
    "## 6. Pairplot (Optional)\n",
    "sns.pairplot(df[numeric_cols])\n"
   ]
  }
 ],
 "metadata": {
  "kernelspec": {
   "display_name": "Python [conda env:base] *",
   "language": "python",
   "name": "conda-base-py"
  },
  "language_info": {
   "codemirror_mode": {
    "name": "ipython",
    "version": 3
   },
   "file_extension": ".py",
   "mimetype": "text/x-python",
   "name": "python",
   "nbconvert_exporter": "python",
   "pygments_lexer": "ipython3",
   "version": "3.12.7"
  }
 },
 "nbformat": 4,
 "nbformat_minor": 5
}
